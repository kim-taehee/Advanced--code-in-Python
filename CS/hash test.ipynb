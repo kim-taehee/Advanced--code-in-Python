{
 "cells": [
  {
   "cell_type": "code",
   "execution_count": 1,
   "metadata": {},
   "outputs": [],
   "source": [
    "import collections\n",
    "\n",
    "\n",
    "def solution(participant, completion):\n",
    "    answer = collections.Counter(participant) - collections.Counter(completion)\n",
    "    return list(answer.keys())[0]"
   ]
  },
  {
   "cell_type": "code",
   "execution_count": 3,
   "metadata": {},
   "outputs": [],
   "source": [
    "def solution(participant, completion):\n",
    "    participant.sort()\n",
    "    completion.sort()\n",
    "    for i in range(len(completion)):\n",
    "        if participant[i] != completion[i]:\n",
    "            return participant[i]\n",
    "    return participant[len(participant)-1]\n",
    "\n",
    "# 내 솔루션과 비슷"
   ]
  },
  {
   "cell_type": "code",
   "execution_count": 13,
   "metadata": {},
   "outputs": [],
   "source": [
    "participant=['james','jane','mike']\n",
    "completion=['james','jane']"
   ]
  },
  {
   "cell_type": "code",
   "execution_count": null,
   "metadata": {},
   "outputs": [],
   "source": []
  },
  {
   "cell_type": "code",
   "execution_count": 52,
   "metadata": {},
   "outputs": [],
   "source": [
    "def solution(participant, completion):\n",
    "    answer = ''\n",
    "    temp = 0\n",
    "    dic = {}\n",
    "    for part in participant:\n",
    "        # dic 변수에 참가자 한명한명을 hash()를 통해 변환한 숫자를 key로, 참가자를 value로 설정 \n",
    "        dic[hash(part)] = part\n",
    "        # temp 변수에 참가자 모두를 합한 hash 숫자를 할당한다.\n",
    "        temp += int(hash(part))\n",
    "    # temp 변수에 있는 값에서 완주자 모두를 합한 hash 숫자를 뺀 뒤 그 값을 다시 temp에 할당한다. \n",
    "    for com in completion:\n",
    "        temp -= hash(com)\n",
    "    # '참가자 전원의 hash 숫자 합 - 완주자 전원의 hash 숫자 합'을 key로 갖고 있는 dic의 value를 answer에 할당한다.\n",
    "    answer = dic[temp]\n",
    "\n",
    "    return answer\n"
   ]
  },
  {
   "cell_type": "code",
   "execution_count": 53,
   "metadata": {},
   "outputs": [
    {
     "name": "stdout",
     "output_type": "stream",
     "text": [
      "part:james\n",
      "-2749212153200577828\n",
      "part:jane\n",
      "-3409258183090049778\n",
      "part:mike\n",
      "-11180320458430834109\n",
      "-8431108305230256281\n",
      "-7771062275340784331\n"
     ]
    },
    {
     "data": {
      "text/plain": [
       "'mike'"
      ]
     },
     "execution_count": 53,
     "metadata": {},
     "output_type": "execute_result"
    }
   ],
   "source": [
    "solution(participant,completion)"
   ]
  },
  {
   "cell_type": "code",
   "execution_count": 61,
   "metadata": {},
   "outputs": [],
   "source": [
    "class redict(dict):\n",
    "    def __init__(self, d):\n",
    "        dict.__init__(self, d)\n",
    "\n",
    "    def __getitem__(self, regex):\n",
    "        r = re.compile(regex)\n",
    "        mkeys = filter(r.match, self.keys())\n",
    "        for i in mkeys:\n",
    "            yield dict.__getitem__(self, i)"
   ]
  },
  {
   "cell_type": "code",
   "execution_count": 62,
   "metadata": {},
   "outputs": [
    {
     "name": "stdout",
     "output_type": "stream",
     "text": [
      "4\n",
      "5\n"
     ]
    }
   ],
   "source": [
    "import re\n",
    "keys = [\"a\", \"b\", \"c\", \"ab\", \"ce\", \"de\"]\n",
    "vals = range(0,len(keys))\n",
    "red = redict(zip(keys, vals))\n",
    "for i in red[r\"^.e$\"]:\n",
    "    print (i)"
   ]
  },
  {
   "cell_type": "code",
   "execution_count": 60,
   "metadata": {},
   "outputs": [],
   "source": [
    "# 2번문제 #hash 내 중복문제 확인"
   ]
  },
  {
   "cell_type": "code",
   "execution_count": null,
   "metadata": {},
   "outputs": [],
   "source": [
    "import re\n",
    "\n",
    "def solution(phone_book):\n",
    "    dic={}\n",
    "    cnt=0\n",
    "    for pn2 in phone_book: \n",
    "        r = re.compile(\"^({})\".format(pn2))\n",
    "        newlist = list(filter(r.match,phone_book))\n",
    "        aa=len (newlist[ :-1])\n",
    "        cnt+=aa\n",
    "\n",
    "    answer=bool(cnt==0)\n",
    "            \n",
    "    return answer\n",
    "# 내 코드 : 속도가 느리다고함"
   ]
  },
  {
   "cell_type": "code",
   "execution_count": null,
   "metadata": {},
   "outputs": [],
   "source": [
    "# 이코드가 n^2 이라서 내코드보다 더 느린데?\n",
    "import re\n",
    "def solution(phoneBook):\n",
    "\n",
    "    for b in phoneBook:\n",
    "        p = re.compile(\"^\"+b)\n",
    "        for b2 in phoneBook:\n",
    "            if b != b2 and p.match(b2):\n",
    "                return False\n",
    "    return True"
   ]
  },
  {
   "cell_type": "code",
   "execution_count": null,
   "metadata": {},
   "outputs": [],
   "source": [
    "# 이 코드가 좋은가?\n",
    "from itertools import combinations as c\n",
    "def solution(phoneBook):\n",
    "    answer = True\n",
    "    sortedPB = sorted(phoneBook, key= len)\n",
    "    for (a,b) in c( sortedPB,2):\n",
    "        if a == b[:len(a)]:\n",
    "            answer = False\n",
    "    return answer"
   ]
  },
  {
   "cell_type": "code",
   "execution_count": null,
   "metadata": {},
   "outputs": [],
   "source": []
  },
  {
   "cell_type": "code",
   "execution_count": null,
   "metadata": {},
   "outputs": [],
   "source": []
  }
 ],
 "metadata": {
  "kernelspec": {
   "display_name": "Python 3",
   "language": "python",
   "name": "python3"
  },
  "language_info": {
   "codemirror_mode": {
    "name": "ipython",
    "version": 3
   },
   "file_extension": ".py",
   "mimetype": "text/x-python",
   "name": "python",
   "nbconvert_exporter": "python",
   "pygments_lexer": "ipython3",
   "version": "3.6.8"
  }
 },
 "nbformat": 4,
 "nbformat_minor": 2
}
