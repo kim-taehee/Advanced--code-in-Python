{
 "cells": [
  {
   "cell_type": "code",
   "execution_count": 5,
   "metadata": {},
   "outputs": [],
   "source": [
    "import os\n",
    "import pyodbc\n",
    "\n",
    "import numpy as np \n",
    "import matplotlib.pyplot as plt\n",
    "import matplotlib.font_manager as fm\n",
    "\n",
    "font_path = 'C:/Windows/Fonts/gulim.ttc'\n",
    "fontprop = fm.FontProperties(fname=font_path, size=18)\n",
    "plt.rcParams[\"figure.figsize\"] = (20,5)\n",
    "plt.rcParams['lines.color'] = 'b'\n",
    "import pandas as pd\n",
    "from sklearn import preprocessing"
   ]
  },
  {
   "cell_type": "code",
   "execution_count": 6,
   "metadata": {},
   "outputs": [],
   "source": [
    "conn = pyodbc.connect(\"Driver={SQL Server Native Client 11.0};\"\n",
    "                              \"Server=172.20.66.89;\"\n",
    "                              \"Database=CEPS4MSV_201911;\"\n",
    "                              \"UID=ceps1;\"\n",
    "                              \"PWD=ceps1\")\n",
    "cursor = conn.cursor()  \n",
    "cursor.execute(''' SELECT ProcNO,ErrMsg ,  \n",
    "\t  sum(dTIME) as stime_byProcNO,\n",
    "\t  avg(dTIME) as atime_byProcNO,\n",
    "\t  count(ErrMsg) as cnt\n",
    "\t  FROM [CEPS4MSV_201911].[dbo].[ERRLOG]\n",
    "\t  group by ProcNO ,ErrMsg \n",
    "conn = pyodbc.connect(\"Driver={SQL Server Native Client 11.0};\"\n",
    "                              \"Server=172.20.66.89;\"\n",
    "                              \"Database=CEPS4MSV_201911;\"\n",
    "                              \"UID=ceps1;\"\n",
    "                              \"PWD=ceps1\")\n",
    "cursor = conn.cursor()  \n",
    "cursor.execute(''' SELECT ProcNO,ErrMsg ,  \n",
    "      sum(dTIME) as stime_byProcNO,\n",
    "      avg(dTIME) as atime_byProcNO,\n",
    "      count(ErrMsg) as cnt\n",
    "      FROM [CEPS4MSV_201911].[dbo].[ERRLOG]\n",
    "      group by ProcNO ,ErrMsg \n",
    "      order by ProcNo asc ,ErrMsg asc  ''')\n",
    "rs = cursor.fetchall()\n",
    "df=pd.DataFrame(np.array(rs),columns=[\"Proc\",\"ErrMsg\",\"stime_byProcNo\",\"atime_byProcNo\",\"cnt\"])\n",
    "​\n",
    "df1=df[(df['Pro\n",
    "\t  order by ProcNo asc ,ErrMsg asc  ''')\n",
    "rs = cursor.fetchall()"
   ]
  },
  {
   "cell_type": "code",
   "execution_count": 11,
   "metadata": {},
   "outputs": [],
   "source": [
    "df=pd.DataFrame(np.array(rs),columns=[\"Proc\",\"ErrMsg\",\"stime_byProcNo\",\"atime_byProcNo\",\"cnt\"])\n",
    "\n",
    "df1=df[(df['Proc']=='1')]; df2=df[(df['Proc']=='2')]; df3=df[(df['Proc']=='3')]; df4=df[(df['Proc']=='4')]; \n",
    "df5=df[(df['Proc']=='5')]; df6=df[(df['Proc']=='6')];df7=df[(df['Proc']=='7')]; df8=df[(df['Proc']=='8')];\n",
    "df9=df[(df['Proc']=='9')];df10=df[(df['Proc']=='10')];df11=df[(df['Proc']=='11')]; df12=df[(df['Proc']=='12')];\n",
    "df13=df[(df['Proc']=='13')]; df14=df[(df['Proc']=='14')]; df15=df[(df['Proc']=='15')];df16=df[(df['Proc']=='16')];\n",
    "df17=df[(df['Proc']=='17')]; df18=df[(df['Proc']=='18')]; df19=df[(df['Proc']=='19')];df20=df[(df['Proc']=='20')]; \n",
    "df21=df[(df['Proc']=='21')]; df22=df[(df['Proc']=='22')]; df23=df[(df['Proc']=='23')];df24=df[(df['Proc']=='24')]; \n",
    "df25=df[(df['Proc']=='26')]; df26=df[(df['Proc']=='26')]; df27=df[(df['Proc']=='27')];df28=df[(df['Proc']=='28')];\n",
    "df29=df[(df['Proc']=='29')]; df30=df[(df['Proc']=='30')]; df31=df[(df['Proc']=='31')];df13=df[(df['Proc']=='32')];\n",
    "df32=df[(df['Proc']=='32')]; df32=df[(df['Proc']=='32')];"
   ]
  },
  {
   "cell_type": "code",
   "execution_count": 12,
   "metadata": {},
   "outputs": [
    {
     "data": {
      "text/plain": [
       "Text(0.5, 1.0, 'HSG체결 err_time_sum')"
      ]
     },
     "execution_count": 12,
     "metadata": {},
     "output_type": "execute_result"
    },
    {
     "data": {
      "image/png": "[encoded data removed]",
      "text/plain": [
       "<Figure size 1440x360 with 2 Axes>"
      ]
     },
     "metadata": {
      "needs_background": "light"
     },
     "output_type": "display_data"
    }
   ],
   "source": [
    "plt.subplot(121)\n",
    "plt.bar('ErrMsg','cnt',data=df1)\n",
    "plt.title('HSG체결 cnt',fontproperties=fontprop)\n",
    "plt.subplot(122)\n",
    "plt.bar('ErrMsg','stime_byProcNo',data=df1)\n",
    "plt.title('HSG체결 err_time_sum',fontproperties=fontprop)"
   ]
  },
  {
   "cell_type": "code",
   "execution_count": null,
   "metadata": {},
   "outputs": [],
   "source": []
  },
  {
   "cell_type": "code",
   "execution_count": null,
   "metadata": {},
   "outputs": [],
   "source": []
  }
 ],
 "metadata": {
  "kernelspec": {
   "display_name": "Python 3",
   "language": "python",
   "name": "python3"
  },
  "language_info": {
   "codemirror_mode": {
    "name": "ipython",
    "version": 3
   },
   "file_extension": ".py",
   "mimetype": "text/x-python",
   "name": "python",
   "nbconvert_exporter": "python",
   "pygments_lexer": "ipython3",
   "version": "3.6.8"
  }
 },
 "nbformat": 4,
 "nbformat_minor": 2
}
