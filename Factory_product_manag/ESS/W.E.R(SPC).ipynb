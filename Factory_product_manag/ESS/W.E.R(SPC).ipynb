{
 "cells": [
  {
   "cell_type": "code",
   "execution_count": 5,
   "metadata": {},
   "outputs": [],
   "source": [
    "import math\n",
    "\n",
    "import numpy as np\n",
    "import pandas as pd\n",
    "from sklearn import datasets\n",
    "import matplotlib.pyplot as plt\n",
    "\n",
    "iris = datasets.load_iris()\n",
    "X = iris[\"data\"][:, (2, 3)]  # 꽃잎 길이, 꽃잎 너비"
   ]
  },
  {
   "cell_type": "code",
   "execution_count": 6,
   "metadata": {},
   "outputs": [
    {
     "name": "stdout",
     "output_type": "stream",
     "text": [
      "평균: 3.7580000000000027 편차: 1.7594040657753032\n"
     ]
    }
   ],
   "source": [
    "x_df=pd.DataFrame(X)\n",
    "avg=np.mean(x_df[0])\n",
    "sigma1=np.std(x_df[0])\n",
    "print(\"평균:\",avg,\"편차:\",sigma1)"
   ]
  },
  {
   "cell_type": "code",
   "execution_count": 7,
   "metadata": {},
   "outputs": [
    {
     "data": {
      "text/plain": [
       "Text(-2, 9.1, 'UCL')"
      ]
     },
     "execution_count": 7,
     "metadata": {},
     "output_type": "execute_result"
    },
    {
     "data": {
      "image/png": "[encoded data removed]",
      "text/plain": [
       "<Figure size 432x288 with 1 Axes>"
      ]
     },
     "metadata": {
      "needs_background": "light"
     },
     "output_type": "display_data"
    }
   ],
   "source": [
    "plt.plot(x_df[0])\n",
    "plt.axhline(y=avg,color='k')\n",
    "plt.axhline(y=avg+sigma1,color='g', linestyle=':')\n",
    "plt.axhline(y=avg-sigma1,color='g', linestyle=':')\n",
    "plt.axhline(y=avg+3*sigma1,color='r', linestyle='--',label='HCL')\n",
    "plt.axhline(y=avg-3*sigma1,color='r', linestyle='--',label='UCL')\n",
    "plt.text(-2,-2,'LCL',color='r')\n",
    "plt.text(-2,9.1,'UCL',color='r')"
   ]
  },
  {
   "cell_type": "code",
   "execution_count": 8,
   "metadata": {},
   "outputs": [
    {
     "name": "stdout",
     "output_type": "stream",
     "text": [
      "OK\n",
      "OK\n",
      "OK\n",
      "OK\n",
      "OK\n",
      "OK\n",
      "OK\n",
      "OK\n",
      "OK\n",
      "OK\n"
     ]
    },
    {
     "data": {
      "image/png": "[encoded data removed]",
      "text/plain": [
       "<Figure size 432x288 with 1 Axes>"
      ]
     },
     "metadata": {
      "needs_background": "light"
     },
     "output_type": "display_data"
    }
   ],
   "source": [
    "# rule1\n",
    "x_rule1_data=x_df[0][120:130]\n",
    "plt.plot(x_rule1_data)\n",
    "plt.axhline(y=avg,color='k')\n",
    "plt.axhline(y=avg+sigma1,color='g', linestyle=':')\n",
    "plt.axhline(y=avg-sigma1,color='g', linestyle=':')\n",
    "plt.axhline(y=avg+3*sigma1,color='r', linestyle='--',label='HCL')\n",
    "plt.axhline(y=avg-3*sigma1,color='r', linestyle='--',label='UCL')\n",
    "\n",
    "for i in x_rule1_data:\n",
    "    if i > avg+3*sigma1:\n",
    "        print(\"NG\")\n",
    "    else:\n",
    "        print(\"OK\")"
   ]
  },
  {
   "cell_type": "code",
   "execution_count": 9,
   "metadata": {
    "scrolled": true
   },
   "outputs": [
    {
     "name": "stdout",
     "output_type": "stream",
     "text": [
      "j-i: 994.3\n",
      "cnt: 0\n",
      "OK\n",
      "\n",
      "j-i: 0.7999999999999998\n",
      "cnt: -1\n",
      "OK\n",
      "\n",
      "j-i: -1.7999999999999998\n",
      "cnt: 0\n",
      "OK\n",
      "\n",
      "j-i: 1.7999999999999998\n",
      "cnt: -1\n",
      "OK\n",
      "\n",
      "j-i: -0.7999999999999998\n",
      "cnt: 0\n",
      "OK\n",
      "\n",
      "j-i: -0.2999999999999998\n",
      "cnt: 1\n",
      "OK\n",
      "\n",
      "j-i: 1.2000000000000002\n",
      "cnt: 0\n",
      "OK\n",
      "\n",
      "j-i: -0.10000000000000053\n",
      "cnt: 1\n",
      "OK\n",
      "\n",
      "j-i: -0.6999999999999993\n",
      "cnt: 2\n",
      "OK\n",
      "\n",
      "j-i: -0.20000000000000018\n",
      "cnt: 3\n",
      "\u001b[31m초기화,NG\u001b[0m\n",
      "\n"
     ]
    }
   ],
   "source": [
    "# rule2\n",
    "from termcolor import colored\n",
    "j=1000 #초기화, 오류방지를 위해 큰 수로 하드코딩\n",
    "cnt=1 # 초기화\n",
    "for i in x_rule1_data:\n",
    "    print(\"j-i:\",j-i)\n",
    "\n",
    "    if j-i > 0:\n",
    "        cnt-=1\n",
    "        print(\"cnt:\",cnt)\n",
    "    else:\n",
    "        cnt+=1\n",
    "        print(\"cnt:\",cnt)\n",
    "    j=i\n",
    "    \n",
    "    if cnt>=3 or cnt<=-3:  # 연속으로 3번 증가 혹은 감소시 count초기화 및 NG alarm\n",
    "        cnt=0\n",
    "        print(colored(\"초기화,NG\",\"red\"))\n",
    "    else:\n",
    "        print(\"OK\")\n",
    "    \n",
    "\n",
    "    print()"
   ]
  },
  {
   "cell_type": "code",
   "execution_count": null,
   "metadata": {},
   "outputs": [],
   "source": [
    "# rule3"
   ]
  },
  {
   "cell_type": "code",
   "execution_count": 79,
   "metadata": {},
   "outputs": [],
   "source": [
    "# rule4\n"
   ]
  }
 ],
 "metadata": {
  "kernelspec": {
   "display_name": "Python 3",
   "language": "python",
   "name": "python3"
  },
  "language_info": {
   "codemirror_mode": {
    "name": "ipython",
    "version": 3
   },
   "file_extension": ".py",
   "mimetype": "text/x-python",
   "name": "python",
   "nbconvert_exporter": "python",
   "pygments_lexer": "ipython3",
   "version": "3.7.3"
  }
 },
 "nbformat": 4,
 "nbformat_minor": 2
}
