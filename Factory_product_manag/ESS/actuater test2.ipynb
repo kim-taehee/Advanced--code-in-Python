{
 "cells": [
  {
   "cell_type": "code",
   "execution_count": 45,
   "metadata": {},
   "outputs": [],
   "source": [
    "import os\n",
    "import pyodbc\n",
    "\n",
    "import numpy as np \n",
    "import matplotlib as plt \n",
    "import pandas as pd\n",
    "from sklearn import preprocessing"
   ]
  },
  {
   "cell_type": "code",
   "execution_count": 46,
   "metadata": {},
   "outputs": [],
   "source": [
    "# make rule grape with deviation, mean from actucater data\n",
    "# like SPC"
   ]
  },
  {
   "cell_type": "code",
   "execution_count": null,
   "metadata": {},
   "outputs": [],
   "source": [
    "# OP_NO,STATS_BIT를 받아와야함"
   ]
  },
  {
   "cell_type": "code",
   "execution_count": 204,
   "metadata": {},
   "outputs": [],
   "source": [
    "LINE_group = OrderedDict()\n",
    "OP_group = OrderedDict()\n",
    "STATUS_BIT_group_OP10 = OrderedDict()\n",
    "STATUS_BIT_group_OP20 = OrderedDict()\n",
    "STATUS_BIT_group_OP30 = OrderedDict()\n",
    "STATUS_BIT_group_OP40 = OrderedDict()\n",
    "STATUS_BIT_group_OP50 = OrderedDict()"
   ]
  },
  {
   "cell_type": "code",
   "execution_count": 205,
   "metadata": {},
   "outputs": [],
   "source": [
    "def CalActuater(OP_NO,STATS_BIT):\n",
    "    try:\n",
    "        conn = pyodbc.connect(\"Driver={SQL Server Native Client 11.0};\"\n",
    "                          \"Server=MDPLP1546701\\\\SQLEXPRESS;\"\n",
    "                          \"Database=CETA_LMS;\"\n",
    "                          \"Trusted_Connection=yes;\")\n",
    "        cursor = conn.cursor()  \n",
    "        cursor.execute(''' SELECT TOP (1000) [MCH_STATUS_SUMMARY].[OP_NO],\n",
    "            MCH_STATUS_SUMMARY.STATUS_BIT,DATEDIFF([MS],[STATUS_SDATE],\n",
    "            [STATUS_EDATE]) as mstime ,STD_MCH_STATUS_INFO.STATUS_DESC \n",
    "            FROM [CETA_LMS].[dbo].[MCH_STATUS_SUMMARY] left outer join CETA_LMS.dbo.STD_MCH_STATUS_INFO \n",
    "            on MCH_STATUS_SUMMARY.STATUS_BIT = STD_MCH_STATUS_INFO.STATUS_IO_NO and MCH_STATUS_SUMMARY.OP_NO =STD_MCH_STATUS_INFO.OP_NO\n",
    "            where MCH_STATUS_SUMMARY.STATUS_BIT= ('%s') and MCH_STATUS_SUMMARY.OP_NO=('%s'); '''  %(STATUS_BIT,OP_NO) )  \n",
    "\n",
    "        rs = cursor.fetchall()\n",
    "        mslist=list()\n",
    "\n",
    "        descript = rs[1][3]\n",
    "        for i in rs:\n",
    "            #print(i[2])\n",
    "            mslist.append(i[2]) # 2번자리는 변동없음, but sql문에 op_no와 bit가 입력변수로 들어가야함 %s형식, 익산것 참조\n",
    "            # status_bit 별로 추가 \n",
    "\n",
    "\n",
    "        aa=pd.DataFrame(mslist)\n",
    "        mean=int(aa.mean())\n",
    "        std=aa.std()\n",
    "\n",
    "        # 아래부터 NG여부 판단\n",
    "        cursor = conn.cursor()  \n",
    "        cursor.execute(''' SELECT TOP (1) [MCH_STATUS_SUMMARY].[OP_NO],\n",
    "            MCH_STATUS_SUMMARY.STATUS_BIT,DATEDIFF([MS],[STATUS_SDATE],\n",
    "            [STATUS_EDATE]) as mstime ,STD_MCH_STATUS_INFO.STATUS_DESC \n",
    "            FROM [CETA_LMS].[dbo].[MCH_STATUS_SUMMARY] left outer join CETA_LMS.dbo.STD_MCH_STATUS_INFO \n",
    "            on MCH_STATUS_SUMMARY.STATUS_BIT = STD_MCH_STATUS_INFO.STATUS_IO_NO and MCH_STATUS_SUMMARY.OP_NO =STD_MCH_STATUS_INFO.OP_NO\n",
    "            where MCH_STATUS_SUMMARY.STATUS_BIT= ('%s') and MCH_STATUS_SUMMARY.OP_NO=('%s'); '''  %(STATUS_BIT,OP_NO) )\n",
    "        newdata= cursor.fetchone() #op,bit,time(ms)\n",
    "        z_score=float((newdata[2]-mean)/std)\n",
    "        cursor.close()\n",
    "        if (z_score > 1):\n",
    "            result='NG'\n",
    "        elif(z_score < -1):\n",
    "            result='NG'\n",
    "        else:\n",
    "            result=\"OK\"\n",
    "        return OP_NO,STATS_BIT,result\n",
    "    \n",
    "    except:\n",
    "        print('no data!!')\n",
    "        alarm='nodata'\n",
    "        return OP_NO,STATS_BIT,alarm"
   ]
  },
  {
   "cell_type": "code",
   "execution_count": 217,
   "metadata": {},
   "outputs": [
    {
     "name": "stdout",
     "output_type": "stream",
     "text": [
      "no data!!\n"
     ]
    }
   ],
   "source": [
    "result=CalActuater(40,49)"
   ]
  },
  {
   "cell_type": "code",
   "execution_count": 218,
   "metadata": {},
   "outputs": [],
   "source": [
    "# init form of JSON is hardcodiing"
   ]
  },
  {
   "cell_type": "code",
   "execution_count": 219,
   "metadata": {},
   "outputs": [],
   "source": [
    "import json\n",
    "from collections import OrderedDict"
   ]
  },
  {
   "cell_type": "code",
   "execution_count": 222,
   "metadata": {},
   "outputs": [],
   "source": [
    "LINE_group[\"LINE\"] = \"CETA31\"\n",
    "if result[0]==10:\n",
    "    STATUS_BIT_group_OP10[result[1]]=result[2]\n",
    "elif result[0]==20:\n",
    "    STATUS_BIT_group_OP20[result[1]]=result[2]\n",
    "elif result[0]==30:\n",
    "    STATUS_BIT_group_OP30[result[1]]=result[2]\n",
    "elif result[0]==40:\n",
    "    STATUS_BIT_group_OP40[result[1]]=result[2]\n",
    "elif result[0]==50:\n",
    "    STATUS_BIT_group_OP50[result[1]]=result[2]    \n",
    "else:\n",
    "    print(\"error!!! check OP_NO\") "
   ]
  },
  {
   "cell_type": "code",
   "execution_count": 223,
   "metadata": {},
   "outputs": [
    {
     "name": "stdout",
     "output_type": "stream",
     "text": [
      "{\n",
      "\t\"LINE\": \"CETA31\",\n",
      "\t\"OP_group\": {\n",
      "\t\t\"10\": {},\n",
      "\t\t\"20\": {},\n",
      "\t\t\"30\": {\n",
      "\t\t\t\"49\": \"nodata\"\n",
      "\t\t},\n",
      "\t\t\"40\": {\n",
      "\t\t\t\"49\": \"nodata\"\n",
      "\t\t},\n",
      "\t\t\"50\": {}\n",
      "\t}\n",
      "}\n"
     ]
    }
   ],
   "source": [
    "OP_group[\"10\"]=STATUS_BIT_group_OP10\n",
    "OP_group[\"20\"]=STATUS_BIT_group_OP20\n",
    "OP_group[\"30\"]=STATUS_BIT_group_OP30\n",
    "OP_group[\"40\"]=STATUS_BIT_group_OP40\n",
    "OP_group[\"50\"]=STATUS_BIT_group_OP50\n",
    "LINE_group[\"OP_group\"]=OP_group\n",
    "print(json.dumps(LINE_group, ensure_ascii=False, indent=\"\\t\") )"
   ]
  },
  {
   "cell_type": "code",
   "execution_count": 216,
   "metadata": {},
   "outputs": [],
   "source": [
    "\n",
    "with open('CEPS31.json', 'w', encoding=\"utf-8\") as make_file:\n",
    "    json.dump(LINE_group, make_file, ensure_ascii=False, indent=\"\\t\")\n"
   ]
  },
  {
   "cell_type": "code",
   "execution_count": 232,
   "metadata": {},
   "outputs": [],
   "source": []
  },
  {
   "cell_type": "code",
   "execution_count": 228,
   "metadata": {},
   "outputs": [],
   "source": []
  },
  {
   "cell_type": "code",
   "execution_count": null,
   "metadata": {},
   "outputs": [],
   "source": []
  }
 ],
 "metadata": {
  "kernelspec": {
   "display_name": "Python 3",
   "language": "python",
   "name": "python3"
  },
  "language_info": {
   "codemirror_mode": {
    "name": "ipython",
    "version": 3
   },
   "file_extension": ".py",
   "mimetype": "text/x-python",
   "name": "python",
   "nbconvert_exporter": "python",
   "pygments_lexer": "ipython3",
   "version": "3.6.8"
  }
 },
 "nbformat": 4,
 "nbformat_minor": 2
}
