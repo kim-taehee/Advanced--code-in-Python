{
 "cells": [
  {
   "cell_type": "code",
   "execution_count": 2,
   "metadata": {},
   "outputs": [],
   "source": [
    "from flask import Flask\n",
    "from flask_restful import Resource, Api\n",
    "from flask_restful import reqparse, abort, Api, Resource\n"
   ]
  },
  {
   "cell_type": "code",
   "execution_count": 3,
   "metadata": {},
   "outputs": [],
   "source": [
    "app = Flask(__name__)\n",
    "api = Api(app)"
   ]
  },
  {
   "cell_type": "code",
   "execution_count": 4,
   "metadata": {},
   "outputs": [
    {
     "name": "stdout",
     "output_type": "stream",
     "text": [
      " * Serving Flask app \"__main__\" (lazy loading)\n",
      " * Environment: production\n",
      "   WARNING: This is a development server. Do not use it in a production deployment.\n",
      "   Use a production WSGI server instead.\n",
      " * Debug mode: on\n"
     ]
    },
    {
     "name": "stderr",
     "output_type": "stream",
     "text": [
      " * Restarting with stat\n"
     ]
    },
    {
     "ename": "SystemExit",
     "evalue": "1",
     "output_type": "error",
     "traceback": [
      "An exception has occurred, use %tb to see the full traceback.\n",
      "\u001b[1;31mSystemExit\u001b[0m\u001b[1;31m:\u001b[0m 1\n"
     ]
    },
    {
     "name": "stderr",
     "output_type": "stream",
     "text": [
      "c:\\users\\mando\\appdata\\local\\programs\\python\\python36\\lib\\site-packages\\IPython\\core\\interactiveshell.py:3334: UserWarning: To exit: use 'exit', 'quit', or Ctrl-D.\n",
      "  warn(\"To exit: use 'exit', 'quit', or Ctrl-D.\", stacklevel=1)\n"
     ]
    }
   ],
   "source": [
    "#예외 처리\n",
    "def abort_if_todo_doesnt_exist(OP_group):\n",
    "    if OP_group not in LINE_group:\n",
    "        abort(404, message=\"LINE_group {} doesn't exist\".format(OP_group))\n",
    "\n",
    "parser = reqparse.RequestParser()\n",
    "parser.add_argument('task')\n",
    "\n",
    "# 할일(Todo)\n",
    "# Get, Delete, Put 정의\n",
    "class Todo(Resource):\n",
    "    def get(self, OP_group):\n",
    "        abort_if_todo_doesnt_exist(todo_id)\n",
    "        return LINE_group[OP_group]\n",
    "\n",
    "    def delete(self, OP_group):\n",
    "        abort_if_todo_doesnt_exist(todo_id)\n",
    "        del LINE_group[OP_group]\n",
    "        return '', 204\n",
    "\n",
    "    def put(self, OP_group):\n",
    "        args = parser.parse_args()\n",
    "        task = {'task': args['task']}\n",
    "        LINE_group[OP_group] = task\n",
    "        return task, 201\n",
    "\n",
    "\n",
    "# 할일 리스트(Todos)\n",
    "# Get, POST 정의\n",
    "class TodoList(Resource):\n",
    "    def get(self):\n",
    "        return LINE_group\n",
    "\n",
    "    def post(self):\n",
    "        args = parser.parse_args()\n",
    "        OP_group = 'todo%d' % (len(LINE_group) + 1)\n",
    "        LINE_group[OP_group] = {'task': args['task']}\n",
    "        return LINE_group[OP_group], 201\n",
    "\n",
    "##\n",
    "## URL Router에 맵핑한다.(Rest URL정의)\n",
    "##\n",
    "\n",
    "api.add_resource(TodoList, '/todos/')\n",
    "api.add_resource(Todo, '/todos/<string:OP_group>')\n",
    "\n",
    "if __name__ == '__main__':\n",
    "    app.run(debug=True)"
   ]
  },
  {
   "cell_type": "code",
   "execution_count": null,
   "metadata": {},
   "outputs": [],
   "source": []
  }
 ],
 "metadata": {
  "kernelspec": {
   "display_name": "Python 3",
   "language": "python",
   "name": "python3"
  },
  "language_info": {
   "codemirror_mode": {
    "name": "ipython",
    "version": 3
   },
   "file_extension": ".py",
   "mimetype": "text/x-python",
   "name": "python",
   "nbconvert_exporter": "python",
   "pygments_lexer": "ipython3",
   "version": "3.6.8"
  }
 },
 "nbformat": 4,
 "nbformat_minor": 2
}
