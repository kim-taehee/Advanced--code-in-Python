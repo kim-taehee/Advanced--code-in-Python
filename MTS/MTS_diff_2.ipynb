{
 "cells": [
  {
   "cell_type": "code",
   "execution_count": 43,
   "metadata": {},
   "outputs": [],
   "source": [
    "\"\"\" \n",
    "Created on FRI JAN 18 2019\n",
    " \n",
    "MTS Program that graphs difference in mahalanobis distances, as well as an MTS \n",
    " \n",
    "@author: Naqib, revised: Taehee \n",
    "\"\"\" \n",
    "\n",
    "from __future__ import print_function \n",
    "import numpy as np \n",
    "import matplotlib as plt \n",
    "import copy \n",
    "import math\n",
    "import csv\n",
    "import pandas as pd\n",
    "from sklearn import preprocessing"
   ]
  },
  {
   "cell_type": "code",
   "execution_count": 44,
   "metadata": {},
   "outputs": [],
   "source": [
    "OKdata=pd.read_csv('C:/Users/mando/Desktop/ssd/diff.csv',encoding='utf-8' ) # SAM2데이터 from 익산1월\n",
    "OKdata1=OKdata.iloc[:,2:4]\n",
    "OKdata2=OKdata.iloc[:,7]\n",
    "OKdata3=pd.concat([OKdata1,OKdata2],1)\n"
   ]
  },
  {
   "cell_type": "code",
   "execution_count": 45,
   "metadata": {},
   "outputs": [
    {
     "data": {
      "text/plain": [
       "3"
      ]
     },
     "execution_count": 45,
     "metadata": {},
     "output_type": "execute_result"
    }
   ],
   "source": [
    "k=OKdata3.shape[1] # 총 컬럼의 수, k값 구하기\n",
    "k"
   ]
  },
  {
   "cell_type": "code",
   "execution_count": 67,
   "metadata": {},
   "outputs": [
    {
     "name": "stdout",
     "output_type": "stream",
     "text": [
      "[[ 1.11146014 -0.28656468  0.19200134]\n",
      " [-0.28656468  1.07587065 -0.00488907]\n",
      " [ 0.19200134 -0.00488907  1.03515411]]\n"
     ]
    }
   ],
   "source": [
    "scaled_df_ok=(OKdata3-OKdata3.mean())/OKdata3.std()\n",
    "OKdata_corr=scaled_df_ok.corr() # 상관계수 구하기  / 이게 데이터에따라 다름!!!!\n",
    "cor =np.linalg.inv(OKdata_corr) # 상관계수의 역함수\n",
    "print(cor)\n",
    "j=np.arange(0,len(scaled_df_ok),1)\n",
    "scaled_df_ok=np.array(scaled_df_ok)"
   ]
  },
  {
   "cell_type": "code",
   "execution_count": 68,
   "metadata": {},
   "outputs": [
    {
     "data": {
      "text/plain": [
       "(81028, 3)"
      ]
     },
     "execution_count": 68,
     "metadata": {},
     "output_type": "execute_result"
    }
   ],
   "source": [
    "scaled_df_ok.shape"
   ]
  },
  {
   "cell_type": "code",
   "execution_count": 70,
   "metadata": {},
   "outputs": [],
   "source": [
    "MD_result=[]\n",
    "for i in j :\n",
    "    okdata_matrix=scaled_df_ok[[i]]\n",
    "    #print(NGdata_matrix)\n",
    "    okdata_t=scaled_df_ok[i].transpose()\n",
    "    #print(NGdata_t)\n",
    "    MD_squre1=np.dot(okdata_matrix,cor)/k\n",
    "    # print(MD_squre1.shape)\n",
    "    MD_squre2=np.dot( MD_squre1,okdata_t )\n",
    "    MD_squre3=np.asscalar(MD_squre2)\n",
    "    # MD_squre3_5=math.sqrt(MD_squre2)    D값\n",
    "    MD_result.append(MD_squre3)"
   ]
  },
  {
   "cell_type": "code",
   "execution_count": 71,
   "metadata": {},
   "outputs": [
    {
     "data": {
      "text/plain": [
       "0.9999876585871612"
      ]
     },
     "execution_count": 71,
     "metadata": {},
     "output_type": "execute_result"
    }
   ],
   "source": [
    "ok_mean=np.mean(MD_result)\n",
    "ok_mean  # 평균값 확인"
   ]
  },
  {
   "cell_type": "code",
   "execution_count": 73,
   "metadata": {},
   "outputs": [],
   "source": [
    "OKdata['MD']=MD_result\n",
    "OKdata.to_csv('C:/Users/mando/Desktop/ssd/diff_result2.csv')"
   ]
  },
  {
   "cell_type": "code",
   "execution_count": null,
   "metadata": {},
   "outputs": [],
   "source": []
  },
  {
   "cell_type": "code",
   "execution_count": null,
   "metadata": {},
   "outputs": [],
   "source": []
  }
 ],
 "metadata": {
  "kernelspec": {
   "display_name": "Python 3",
   "language": "python",
   "name": "python3"
  },
  "language_info": {
   "codemirror_mode": {
    "name": "ipython",
    "version": 3
   },
   "file_extension": ".py",
   "mimetype": "text/x-python",
   "name": "python",
   "nbconvert_exporter": "python",
   "pygments_lexer": "ipython3",
   "version": "3.6.7"
  }
 },
 "nbformat": 4,
 "nbformat_minor": 2
}
