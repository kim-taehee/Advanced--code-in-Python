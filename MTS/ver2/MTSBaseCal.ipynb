{
 "cells": [
  {
   "cell_type": "code",
   "execution_count": 3,
   "metadata": {},
   "outputs": [],
   "source": [
    "\"\"\" \n",
    "Created on Wed Jan 23 2019\n",
    " \n",
    "MTS Program that graphs difference in mahalanobis distances, as well as an MTS \n",
    " \n",
    "@author: Taehee \n",
    "\"\"\" \n",
    "# DB연결\n",
    "from __future__ import print_function\n",
    "import os\n",
    "import pyodbc  \n",
    "# 수치계산\n",
    "import numpy as np \n",
    "import matplotlib as plt \n",
    "import pandas as pd\n",
    "from sklearn import preprocessing\n",
    "\n",
    "# 버전확인\n",
    "import sys\n",
    "import PyQt5\n",
    "print(sys.version) \n",
    "\n",
    "#--------------------------------------------------------------------------------#"
   ]
  },
  {
   "cell_type": "code",
   "execution_count": 37,
   "metadata": {},
   "outputs": [],
   "source": [
    "def remakeNomarlMTS():\n",
    "    # mssql 접속 2개 만들기 \n",
    "    conn = pyodbc.connect(\"Driver={SQL Server Native Client 11.0};\"\n",
    "                          \"Server=MDPLP1546701\\\\SQLEXPRESS;\"\n",
    "                          \"Database=ROLLCURLING_MONITORING;\"\n",
    "                          \"Trusted_Connection=yes;\")\n",
    "\n",
    "    #connection에서 cursor 생 (cursor는 fetch 동작 관리)\n",
    "    cursor = conn.cursor()\n",
    "    # OS와 맞는 DB설치할 것\n",
    "    cursor.execute(\"SELECT VAR_AWEIGHT, VAR_CWEIGHT, VAR_TQU_CTIME, VAR_RPM_BIAS, VAR_H_MINUS_CL FROM dbo.MTS_BASE_DATA ; \")\n",
    "        # VALUE01 : 축력하중(kgf)\n",
    "        # VALUE02 : 컬링하중(kgf)\n",
    "        # VALUE03 : 토크상한 누적시간\n",
    "        # VALUE04 : RPM 편차(rpm)\n",
    "        # VALUE05 : 높이측정(mm) (사용x)\n",
    "        # VALUE06 : 완료위치(mm) (사용x)\n",
    "        # VALUE07 : 높이측정-완료위치(mm)\n",
    "        # VALUE08 : 단차 측정(mm) (SAM2라인 사용X)\n",
    "\n",
    "    row = cursor.fetchall()\n",
    "    # n, k, factor별 mean, std 확인\n",
    "    OKdata=np.array(row)\n",
    "    n = OKdata.shape[0]\n",
    "    k = OKdata.shape[1]\n",
    "    print(\"제품 수(n):\",n,\",\",\"factor 수(k):\",k)\n",
    "    \n",
    "    \n",
    "    OKdata_factor_mean=[]\n",
    "    OKdata_factor_std=[]\n",
    "    \n",
    "    \n",
    "    for i in range(k):\n",
    "        OKdata_factor_mean.append(float(OKdata.mean(axis=0)[i]))\n",
    "        OKdata_factor_std.append(float(OKdata.std(axis=0)[i]))\n",
    "\n",
    "    # 데이터 정규화(Z)\n",
    "    scaler = preprocessing.StandardScaler()\n",
    "    scaled_df_ok = scaler.fit_transform(OKdata)\n",
    "\n",
    "    # 상관계수(R) 구하기\n",
    "    pd_scaled_df_ok = pd.DataFrame(scaled_df_ok)\n",
    "    OKdata_corr = pd_scaled_df_ok.corr()\n",
    "    OKdata_corr\n",
    "    OKdata_corr.shape\n",
    "\n",
    "    # 상관계수의 역함수(R^-1)\n",
    "    cor =np.linalg.inv(OKdata_corr)\n",
    "\n",
    "    conn.close()\n",
    "    \n",
    "    \n",
    "    # 파일로 저장\n",
    "    OKdata_factor_mean=pd.DataFrame(OKdata_factor_mean).T\n",
    "    OKdata_factor_std=pd.DataFrame(OKdata_factor_std).T\n",
    "    cor=pd.DataFrame(cor)\n",
    "    \n",
    "    os.chdir(\"C:/Users/mando/Desktop/MTS_system/base_data\")\n",
    "    OKdata_factor_mean.to_csv(\"OKdata_factor_mean.csv\")\n",
    "    OKdata_factor_std.to_csv(\"OKdata_factor_std.csv\")\n",
    "    cor.to_csv(\"cor.csv\")"
   ]
  },
  {
   "cell_type": "code",
   "execution_count": 38,
   "metadata": {},
   "outputs": [
    {
     "name": "stdout",
     "output_type": "stream",
     "text": [
      "제품 수(n): 26291 , factor 수(k): 5\n"
     ]
    },
    {
     "name": "stderr",
     "output_type": "stream",
     "text": [
      "C:\\ProgramData\\Anaconda3\\envs\\tensor\\lib\\site-packages\\sklearn\\utils\\validation.py:595: DataConversionWarning: Data with input dtype object was converted to float64 by StandardScaler.\n",
      "  warnings.warn(msg, DataConversionWarning)\n",
      "C:\\ProgramData\\Anaconda3\\envs\\tensor\\lib\\site-packages\\sklearn\\utils\\validation.py:595: DataConversionWarning: Data with input dtype object was converted to float64 by StandardScaler.\n",
      "  warnings.warn(msg, DataConversionWarning)\n"
     ]
    }
   ],
   "source": [
    "remakeNomarlMTS()"
   ]
  },
  {
   "cell_type": "code",
   "execution_count": 42,
   "metadata": {},
   "outputs": [
    {
     "name": "stdout",
     "output_type": "stream",
     "text": [
      "3.6.8 |Anaconda, Inc.| (default, Feb 21 2019, 18:30:04) [MSC v.1916 64 bit (AMD64)]\n"
     ]
    }
   ],
   "source": []
  },
  {
   "cell_type": "code",
   "execution_count": 43,
   "metadata": {},
   "outputs": [],
   "source": []
  },
  {
   "cell_type": "code",
   "execution_count": null,
   "metadata": {},
   "outputs": [],
   "source": []
  }
 ],
 "metadata": {
  "kernelspec": {
   "display_name": "Python 3",
   "language": "python",
   "name": "python3"
  },
  "language_info": {
   "codemirror_mode": {
    "name": "ipython",
    "version": 3
   },
   "file_extension": ".py",
   "mimetype": "text/x-python",
   "name": "python",
   "nbconvert_exporter": "python",
   "pygments_lexer": "ipython3",
   "version": "3.6.8"
  }
 },
 "nbformat": 4,
 "nbformat_minor": 2
}
