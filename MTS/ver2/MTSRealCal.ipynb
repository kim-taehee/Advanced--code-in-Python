{
 "cells": [
  {
   "cell_type": "code",
   "execution_count": 1,
   "metadata": {},
   "outputs": [],
   "source": [
    "\"\"\" \n",
    "Created on Wed Jan 23 2019\n",
    " \n",
    "MTS Program that graphs difference in mahalanobis distances, as well as an MTS \n",
    " \n",
    "@author: Taehee \n",
    "\"\"\" \n",
    "#\n",
    "from __future__ import print_function\n",
    "import sys\n",
    "import os\n",
    "os.chdir(\"C:/Users/mando/Desktop/MTS_system/base_data\")\n",
    "\n",
    "# DB연결\n",
    "\n",
    "import os\n",
    "import pyodbc  \n",
    "# 수치계산\n",
    "import numpy as np \n",
    "import matplotlib as plt \n",
    "import copy \n",
    "import math\n",
    "import csv\n",
    "import pandas as pd\n",
    "from sklearn import preprocessing\n",
    "\n",
    "#--------------------------------------------------------------------------------#\n",
    "\n",
    "# OKdata_factor_mean1,2\n",
    "# OKdata_factor_std 1,2를 각각 받아오거나 하드코딩으로 저장해야 한다."
   ]
  },
  {
   "cell_type": "code",
   "execution_count": 2,
   "metadata": {},
   "outputs": [],
   "source": [
    "# mssql 접속 2개 만들기 \n",
    "conn = pyodbc.connect(\"Driver={SQL Server Native Client 11.0};\"\n",
    "                      \"Server=MDPLP1546701\\\\SQLEXPRESS;\"\n",
    "                      \"Database=ROLLCURLING_MONITORING;\"\n",
    "                      \"Trusted_Connection=yes;\")\n",
    "\n",
    "#connection에서 cursor 생 (cursor는 fetch 동작 관리)\n",
    "cursor = conn.cursor()\n",
    "# OS와 맞는 DB설치할 것"
   ]
  },
  {
   "cell_type": "code",
   "execution_count": 3,
   "metadata": {},
   "outputs": [
    {
     "name": "stdout",
     "output_type": "stream",
     "text": [
      "('2019-01-02', '15:22:27', 'SAM2', '190102', '116', '963', Decimal('7.00000'), Decimal('15.00000'), Decimal('0.74918'), None, None, 'Y', '0', Decimal('1718.00000'), Decimal('2177.00000'), Decimal('0.03200'), Decimal('48.00000'), Decimal('89.90000'), Decimal('61.60000'), Decimal('28.30000'), None, None, None)\n"
     ]
    }
   ],
   "source": [
    "cursor.execute(\"SELECT * from dbo.QMS_MONITORING_DATA  WHERE TIME = (select MAX(TIME) FROM dbo.QMS_MONITORING_DATA where DATE = (select max(DATE) FROM dbo.QMS_MONITORING_DATA where FLAG='Y') AND FLAG='Y') AND FLAG='Y' ORDER BY DATE DESC ; \")\n",
    "    # from dbo.QMS_MONITORING_DATA  WHERE TIME = (select MAX(TIME) FROM dbo.QMS_MONITORING_DATA where DATE = (select max(DATE) FROM dbo.QMS_MONITORING_DATA where FLAG='Y') AND FLAG='Y') AND FLAG='Y' ORDER BY DATE DESC                          \n",
    "    # VALUE01 : 축력하중(kgf)\n",
    "    # VALUE02 : 컬링하중(kgf)\n",
    "    # VALUE03 : 토크상한 누적시간\n",
    "    # VALUE04 : RPM 편차(rpm)\n",
    "    # VALUE05 : 높이측정(mm) (사용x)\n",
    "    # VALUE06 : 완료위치(mm) (사용x)\n",
    "    # VALUE07 : 높이측정-완료위치(mm)\n",
    "    # VALUE08 : 단차 측정(mm) (SAM2라인 사용X)\n",
    "    \n",
    "row =cursor.fetchone()\n",
    "print(row)\n",
    "\n",
    "# base data에 넣기 위한 할당\n",
    "date=row[0]\n",
    "time=row[1]\n",
    "wc=row[2]\n",
    "car_type=row[4]\n",
    "serial_n=row[5]\n",
    "var_aweight=row[13]\n",
    "var_cweight=row[14]\n",
    "var_tqu=row[15]\n",
    "var_rpm=row[16]\n",
    "var10=None\n",
    "var_h=row[19]\n",
    "var13=None\n",
    "var14=None"
   ]
  },
  {
   "cell_type": "code",
   "execution_count": 5,
   "metadata": {},
   "outputs": [],
   "source": []
  },
  {
   "cell_type": "code",
   "execution_count": 16,
   "metadata": {},
   "outputs": [
    {
     "name": "stdout",
     "output_type": "stream",
     "text": [
      "2\n"
     ]
    }
   ],
   "source": [
    "if row[2] == 'SAM2': # 차종 \n",
    "    if row[4]== '140' or row[4] =='141' or row[4] == '142':\n",
    "        print('1')\n",
    "        # 여기서 각 모델을 돌림\n",
    "        # db을 쌓음\n",
    "    else:\n",
    "        print('2')\n",
    "else: # SAA8인경우 \n",
    "    if row[2]== '10' or row[2] =='12':\n",
    "        \n",
    "        print('3')\n",
    "    else:\n",
    "        print('4')"
   ]
  },
  {
   "cell_type": "code",
   "execution_count": 6,
   "metadata": {},
   "outputs": [
    {
     "ename": "IntegrityError",
     "evalue": "('23000', \"[23000] [Microsoft][SQL Server Native Client 11.0][SQL Server]Violation of PRIMARY KEY constraint 'PK_MTS_BASE_DATA_1'. Cannot insert duplicate key in object 'dbo.MTS_BASE_DATA'. The duplicate key value is (SAM2, 2019-01-02, 116, 963, 15:22:27). (2627) (SQLExecDirectW); [23000] [Microsoft][SQL Server Native Client 11.0][SQL Server]The statement has been terminated. (3621)\")",
     "output_type": "error",
     "traceback": [
      "\u001b[1;31m---------------------------------------------------------------------------\u001b[0m",
      "\u001b[1;31mIntegrityError\u001b[0m                            Traceback (most recent call last)",
      "\u001b[1;32m<ipython-input-6-60064519ad47>\u001b[0m in \u001b[0;36m<module>\u001b[1;34m\u001b[0m\n\u001b[0;32m      1\u001b[0m \u001b[1;31m### 기능 3번\u001b[0m\u001b[1;33m\u001b[0m\u001b[1;33m\u001b[0m\u001b[1;33m\u001b[0m\u001b[0m\n\u001b[0;32m      2\u001b[0m \u001b[1;33m\u001b[0m\u001b[0m\n\u001b[1;32m----> 3\u001b[1;33m \u001b[0mcursor\u001b[0m\u001b[1;33m.\u001b[0m\u001b[0mexecute\u001b[0m\u001b[1;33m(\u001b[0m \u001b[1;34m\"insert into dbo.MTS_BASE_DATA (WC,DATE,TIME,CAR_TYPE,SERIAL_NO,VAR_AWEIGHT,VAR_CWEIGHT,VAR_TQU_CTIME,VAR_RPM_BIAS,VAR_H_MINUS_CL) VALUES ('%s','%s','%s','%s','%s','%s','%s','%s','%s','%s');\"\u001b[0m\u001b[1;33m%\u001b[0m\u001b[1;33m(\u001b[0m\u001b[0mwc\u001b[0m\u001b[1;33m,\u001b[0m\u001b[0mdate\u001b[0m\u001b[1;33m,\u001b[0m\u001b[0mtime\u001b[0m\u001b[1;33m,\u001b[0m\u001b[0mcar_type\u001b[0m\u001b[1;33m,\u001b[0m\u001b[0mserial_n\u001b[0m\u001b[1;33m,\u001b[0m\u001b[0mvar_aweight\u001b[0m\u001b[1;33m,\u001b[0m\u001b[0mvar_cweight\u001b[0m\u001b[1;33m,\u001b[0m\u001b[0mvar_tqu\u001b[0m\u001b[1;33m,\u001b[0m\u001b[0mvar_rpm\u001b[0m\u001b[1;33m,\u001b[0m\u001b[0mvar_h\u001b[0m\u001b[1;33m)\u001b[0m     \u001b[1;33m)\u001b[0m\u001b[1;33m\u001b[0m\u001b[1;33m\u001b[0m\u001b[0m\n\u001b[0m",
      "\u001b[1;31mIntegrityError\u001b[0m: ('23000', \"[23000] [Microsoft][SQL Server Native Client 11.0][SQL Server]Violation of PRIMARY KEY constraint 'PK_MTS_BASE_DATA_1'. Cannot insert duplicate key in object 'dbo.MTS_BASE_DATA'. The duplicate key value is (SAM2, 2019-01-02, 116, 963, 15:22:27). (2627) (SQLExecDirectW); [23000] [Microsoft][SQL Server Native Client 11.0][SQL Server]The statement has been terminated. (3621)\")"
     ]
    }
   ],
   "source": [
    "### 기능 3번 \n",
    "\n",
    "cursor.execute( \"insert into dbo.MTS_BASE_DATA (WC,DATE,TIME,CAR_TYPE,SERIAL_NO,VAR_AWEIGHT,VAR_CWEIGHT,VAR_TQU_CTIME,VAR_RPM_BIAS,VAR_H_MINUS_CL) VALUES ('%s','%s','%s','%s','%s','%s','%s','%s','%s','%s');\"%(wc,date,time,car_type,serial_n,var_aweight,var_cweight,var_tqu,var_rpm,var_h)     )\n",
    "cursor.commit()"
   ]
  },
  {
   "cell_type": "code",
   "execution_count": null,
   "metadata": {},
   "outputs": [],
   "source": []
  },
  {
   "cell_type": "code",
   "execution_count": 22,
   "metadata": {},
   "outputs": [
    {
     "name": "stdout",
     "output_type": "stream",
     "text": [
      "raw data: (Decimal('1718.00000'), Decimal('2177.00000'), Decimal('0.03200'), Decimal('48.00000'), Decimal('28.30000'))\n",
      "z: [0.7922601254935119, 0.5847899171797744, -1.09343469358407, 0.922769028474672, 1.1776725642714965]\n",
      "MD: 2.2390249158906115 , D: 1.4963371665138214\n"
     ]
    }
   ],
   "source": [
    "#### 기능 2번 \n",
    "\n",
    "\n",
    "# DB data 불러오기\n",
    "row_array = []\n",
    "z_array = []\n",
    "\n",
    "cursor.execute(\"SELECT VALUE01,VALUE02,VALUE03,VALUE04,VALUE07 from dbo.QMS_MONITORING_DATA  WHERE TIME = (select MAX(TIME) FROM dbo.QMS_MONITORING_DATA where DATE = (select max(DATE) FROM dbo.QMS_MONITORING_DATA where FLAG='Y') AND FLAG='Y') AND FLAG='Y' ORDER BY DATE DESC ; \")\n",
    "\n",
    "row = cursor.fetchone()\n",
    "print(\"raw data:\", row)\n",
    "row_array = np.array(row)\n",
    "k=5\n",
    "\n",
    "# base data 불러오기\n",
    "OKdata_factor_mean=pd.read_csv(\"C:/Users/mando/Desktop/MTS_system/base_data/OKdata_factor_mean.csv\")\n",
    "OKdata_factor_std=pd.read_csv(\"C:/Users/mando/Desktop/MTS_system/base_data/OKdata_factor_std.csv\")\n",
    "cor=pd.read_csv(\"C:/Users/mando/Desktop/MTS_system/base_data/cor.csv\")\n",
    "\n",
    "OKdata_factor_mean=np.array(OKdata_factor_mean.drop(['Unnamed: 0'],1))\n",
    "OKdata_factor_std=np.array(OKdata_factor_std.drop(['Unnamed: 0'],1))\n",
    "cor=np.array(cor.drop(['Unnamed: 0'],1))\n",
    "\n",
    "\n",
    "#MD 연산\n",
    "\n",
    "for i in range(k):\n",
    "\n",
    "    data_minus_mean = float(row_array[i])-OKdata_factor_mean[0][i]\n",
    "    z = data_minus_mean/OKdata_factor_std[0][i]\n",
    "    #print(\"z:\",z)\n",
    "    z_array.append(z)\n",
    "\n",
    "print(\"z:\", z_array)\n",
    "z_transpose = np.transpose(z_array)\n",
    "#print(z_transpose)\n",
    "MD_1 = np.dot(z_array,cor)\n",
    "MD = np.dot(MD_1, z_transpose)\n",
    "D = np.sqrt(MD)\n",
    "\n",
    "print(\"MD:\",MD,\",\",\"D:\",D)"
   ]
  },
  {
   "cell_type": "code",
   "execution_count": null,
   "metadata": {},
   "outputs": [],
   "source": []
  },
  {
   "cell_type": "code",
   "execution_count": null,
   "metadata": {},
   "outputs": [],
   "source": []
  },
  {
   "cell_type": "code",
   "execution_count": null,
   "metadata": {},
   "outputs": [],
   "source": []
  }
 ],
 "metadata": {
  "kernelspec": {
   "display_name": "Python 3",
   "language": "python",
   "name": "python3"
  },
  "language_info": {
   "codemirror_mode": {
    "name": "ipython",
    "version": 3
   },
   "file_extension": ".py",
   "mimetype": "text/x-python",
   "name": "python",
   "nbconvert_exporter": "python",
   "pygments_lexer": "ipython3",
   "version": "3.6.8"
  }
 },
 "nbformat": 4,
 "nbformat_minor": 2
}
